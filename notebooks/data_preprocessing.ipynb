{
 "cells": [
  {
   "cell_type": "code",
   "execution_count": 1,
   "id": "f190422b",
   "metadata": {},
   "outputs": [
    {
     "name": "stdout",
     "output_type": "stream",
     "text": [
      "✅ Data cleaned successfully. Sample:\n",
      "                                          clean_text  c_and_g\n",
      "0  1 strong punishmnt cn prevent a lot of crimes ...        0\n",
      "1  my personal view father should go to jail toow...        0\n",
      "2  dear arrest this useless lady she spreading ha...        1\n",
      "3  the minor was challand thrice last yrbut why c...        1\n",
      "4  reckless driving by underage kids at roop naga...        1\n",
      "✅ Cleaned dataset saved to data/cleaned_annotated.csv\n"
     ]
    },
    {
     "name": "stderr",
     "output_type": "stream",
     "text": [
      "c:\\Users\\bmaha\\OneDrive\\Desktop\\complaintAnalysis\\notebooks\\../utils\\preprocess_utils.py:22: UserWarning: pandas only supports SQLAlchemy connectable (engine/connection) or database string URI or sqlite3 DBAPI2 connection. Other DBAPI2 objects are not tested. Please consider using SQLAlchemy.\n",
      "  df = pd.read_sql(query, connection)\n"
     ]
    }
   ],
   "source": [
    "import sys\n",
    "sys.path.append(\"../utils\")\n",
    "\n",
    "from db_connection import get_connection\n",
    "from preprocess_utils import load_and_clean_from_db\n",
    "\n",
    "conn = get_connection()\n",
    "df = load_and_clean_from_db(conn)\n",
    "conn.close()\n",
    "\n",
    "df.to_csv(\"../data/cleaned_annotated.csv\", index=False)\n",
    "print(\"✅ Cleaned dataset saved to data/cleaned_annotated.csv\")\n"
   ]
  }
 ],
 "metadata": {
  "kernelspec": {
   "display_name": "Python 3",
   "language": "python",
   "name": "python3"
  },
  "language_info": {
   "codemirror_mode": {
    "name": "ipython",
    "version": 3
   },
   "file_extension": ".py",
   "mimetype": "text/x-python",
   "name": "python",
   "nbconvert_exporter": "python",
   "pygments_lexer": "ipython3",
   "version": "3.11.2"
  }
 },
 "nbformat": 4,
 "nbformat_minor": 5
}
